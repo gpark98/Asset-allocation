{
 "cells": [
  {
   "cell_type": "code",
   "execution_count": 1,
   "metadata": {
    "id": "dk2anCSBX-xS"
   },
   "outputs": [],
   "source": [
    "# # yfinance, getFamaFrenchFactors 패키지 설치\n",
    "# !pip install getFamaFrenchFactors --quiet"
   ]
  },
  {
   "cell_type": "code",
   "execution_count": 2,
   "metadata": {
    "id": "lWI-48pbX7TS"
   },
   "outputs": [],
   "source": [
    "# 패키지 임포트: pandas, statsmodels, yfinance, getFamaFrenchFactors\n",
    "import pandas as pd\n",
    "import yfinance as yf\n",
    "import statsmodels.api as sm\n",
    "import getFamaFrenchFactors as gff"
   ]
  },
  {
   "cell_type": "markdown",
   "metadata": {
    "id": "ptHn06fOm65q"
   },
   "source": [
    "### 애플 과거 주가 데이터 다운로드"
   ]
  },
  {
   "cell_type": "code",
   "execution_count": 3,
   "metadata": {
    "id": "gDVgQZBFm4-E"
   },
   "outputs": [
    {
     "name": "stdout",
     "output_type": "stream",
     "text": [
      "[*********************100%***********************]  1 of 1 completed\n"
     ]
    }
   ],
   "source": [
    "# 주가 데이터 다운로드\n",
    "# 애플 주식 티커\n",
    "ticker = 'AAPL'\n",
    "\n",
    "# 데이터 시작일과 종료일\n",
    "start = '2000-01-01'\n",
    "end = '2022-10-12'\n",
    "\n",
    "# 데이터 다운로드\n",
    "stock_data = yf.download(ticker, start, end)\n",
    "\n",
    "# 주가 수익률 계산\n",
    "stock_returns = stock_data['Adj Close'].resample('M').last().pct_change().dropna()\n",
    "stock_returns.name = 'Month_Rtn'\n",
    "stock_returns.index = pd.to_datetime(stock_returns.index).date"
   ]
  },
  {
   "cell_type": "code",
   "execution_count": 4,
   "metadata": {
    "id": "vsPIvU8aUspK"
   },
   "outputs": [
    {
     "data": {
      "text/plain": [
       "2000-02-29    0.104820\n",
       "2000-03-31    0.184842\n",
       "2000-04-30   -0.086516\n",
       "2000-05-31   -0.322922\n",
       "2000-06-30    0.247024\n",
       "                ...   \n",
       "2022-06-30   -0.081430\n",
       "2022-07-31    0.188634\n",
       "2022-08-31   -0.031208\n",
       "2022-09-30   -0.120977\n",
       "2022-10-31    0.005644\n",
       "Name: Month_Rtn, Length: 273, dtype: float64"
      ]
     },
     "execution_count": 4,
     "metadata": {},
     "output_type": "execute_result"
    }
   ],
   "source": [
    "stock_returns"
   ]
  },
  {
   "cell_type": "markdown",
   "metadata": {
    "id": "L491q6M6nSPw"
   },
   "source": [
    "### 파마-프렌치 3 팩터 데이터 다운로드"
   ]
  },
  {
   "cell_type": "code",
   "execution_count": 5,
   "metadata": {
    "id": "oYAtWJK3nZqs"
   },
   "outputs": [],
   "source": [
    "# 파마-프렌치 3 팩터 데이터 다운로드\n",
    "ff3_monthly = gff.famaFrench3Factor(frequency='m')\n",
    "ff3_monthly.rename(columns={'date_ff_factors': 'Date'}, inplace=True)\n",
    "ff3_monthly.set_index('Date', inplace=True)\n",
    "ff3_monthly.index = pd.to_datetime(ff3_monthly.index).date\n",
    "\n",
    "# 팩터 데이터와 주가 데이터 병합\n",
    "ff_data = pd.concat([ff3_monthly, stock_returns], axis=1, join='inner')"
   ]
  },
  {
   "cell_type": "code",
   "execution_count": 6,
   "metadata": {
    "id": "XAAQV-IuVqOL"
   },
   "outputs": [
    {
     "data": {
      "text/html": [
       "<div>\n",
       "<style scoped>\n",
       "    .dataframe tbody tr th:only-of-type {\n",
       "        vertical-align: middle;\n",
       "    }\n",
       "\n",
       "    .dataframe tbody tr th {\n",
       "        vertical-align: top;\n",
       "    }\n",
       "\n",
       "    .dataframe thead th {\n",
       "        text-align: right;\n",
       "    }\n",
       "</style>\n",
       "<table border=\"1\" class=\"dataframe\">\n",
       "  <thead>\n",
       "    <tr style=\"text-align: right;\">\n",
       "      <th></th>\n",
       "      <th>Mkt-RF</th>\n",
       "      <th>SMB</th>\n",
       "      <th>HML</th>\n",
       "      <th>RF</th>\n",
       "      <th>Month_Rtn</th>\n",
       "    </tr>\n",
       "  </thead>\n",
       "  <tbody>\n",
       "    <tr>\n",
       "      <th>2000-02-29</th>\n",
       "      <td>0.0245</td>\n",
       "      <td>0.2142</td>\n",
       "      <td>-0.0970</td>\n",
       "      <td>0.0043</td>\n",
       "      <td>0.104820</td>\n",
       "    </tr>\n",
       "    <tr>\n",
       "      <th>2000-03-31</th>\n",
       "      <td>0.0520</td>\n",
       "      <td>-0.1723</td>\n",
       "      <td>0.0817</td>\n",
       "      <td>0.0047</td>\n",
       "      <td>0.184842</td>\n",
       "    </tr>\n",
       "    <tr>\n",
       "      <th>2000-04-30</th>\n",
       "      <td>-0.0640</td>\n",
       "      <td>-0.0668</td>\n",
       "      <td>0.0726</td>\n",
       "      <td>0.0046</td>\n",
       "      <td>-0.086516</td>\n",
       "    </tr>\n",
       "    <tr>\n",
       "      <th>2000-05-31</th>\n",
       "      <td>-0.0442</td>\n",
       "      <td>-0.0609</td>\n",
       "      <td>0.0481</td>\n",
       "      <td>0.0050</td>\n",
       "      <td>-0.322922</td>\n",
       "    </tr>\n",
       "    <tr>\n",
       "      <th>2000-06-30</th>\n",
       "      <td>0.0464</td>\n",
       "      <td>0.1285</td>\n",
       "      <td>-0.0843</td>\n",
       "      <td>0.0040</td>\n",
       "      <td>0.247024</td>\n",
       "    </tr>\n",
       "    <tr>\n",
       "      <th>...</th>\n",
       "      <td>...</td>\n",
       "      <td>...</td>\n",
       "      <td>...</td>\n",
       "      <td>...</td>\n",
       "      <td>...</td>\n",
       "    </tr>\n",
       "    <tr>\n",
       "      <th>2022-06-30</th>\n",
       "      <td>-0.0843</td>\n",
       "      <td>0.0210</td>\n",
       "      <td>-0.0598</td>\n",
       "      <td>0.0006</td>\n",
       "      <td>-0.081430</td>\n",
       "    </tr>\n",
       "    <tr>\n",
       "      <th>2022-07-31</th>\n",
       "      <td>0.0957</td>\n",
       "      <td>0.0280</td>\n",
       "      <td>-0.0410</td>\n",
       "      <td>0.0008</td>\n",
       "      <td>0.188634</td>\n",
       "    </tr>\n",
       "    <tr>\n",
       "      <th>2022-08-31</th>\n",
       "      <td>-0.0377</td>\n",
       "      <td>0.0137</td>\n",
       "      <td>0.0030</td>\n",
       "      <td>0.0019</td>\n",
       "      <td>-0.031208</td>\n",
       "    </tr>\n",
       "    <tr>\n",
       "      <th>2022-09-30</th>\n",
       "      <td>-0.0935</td>\n",
       "      <td>-0.0079</td>\n",
       "      <td>0.0006</td>\n",
       "      <td>0.0019</td>\n",
       "      <td>-0.120977</td>\n",
       "    </tr>\n",
       "    <tr>\n",
       "      <th>2022-10-31</th>\n",
       "      <td>0.0783</td>\n",
       "      <td>0.0009</td>\n",
       "      <td>0.0805</td>\n",
       "      <td>0.0023</td>\n",
       "      <td>0.005644</td>\n",
       "    </tr>\n",
       "  </tbody>\n",
       "</table>\n",
       "<p>273 rows × 5 columns</p>\n",
       "</div>"
      ],
      "text/plain": [
       "            Mkt-RF     SMB     HML      RF  Month_Rtn\n",
       "2000-02-29  0.0245  0.2142 -0.0970  0.0043   0.104820\n",
       "2000-03-31  0.0520 -0.1723  0.0817  0.0047   0.184842\n",
       "2000-04-30 -0.0640 -0.0668  0.0726  0.0046  -0.086516\n",
       "2000-05-31 -0.0442 -0.0609  0.0481  0.0050  -0.322922\n",
       "2000-06-30  0.0464  0.1285 -0.0843  0.0040   0.247024\n",
       "...            ...     ...     ...     ...        ...\n",
       "2022-06-30 -0.0843  0.0210 -0.0598  0.0006  -0.081430\n",
       "2022-07-31  0.0957  0.0280 -0.0410  0.0008   0.188634\n",
       "2022-08-31 -0.0377  0.0137  0.0030  0.0019  -0.031208\n",
       "2022-09-30 -0.0935 -0.0079  0.0006  0.0019  -0.120977\n",
       "2022-10-31  0.0783  0.0009  0.0805  0.0023   0.005644\n",
       "\n",
       "[273 rows x 5 columns]"
      ]
     },
     "execution_count": 6,
     "metadata": {},
     "output_type": "execute_result"
    }
   ],
   "source": [
    "ff_data"
   ]
  },
  {
   "cell_type": "code",
   "execution_count": 7,
   "metadata": {
    "id": "ku7hLv65wXvp"
   },
   "outputs": [
    {
     "data": {
      "text/html": [
       "<div>\n",
       "<style scoped>\n",
       "    .dataframe tbody tr th:only-of-type {\n",
       "        vertical-align: middle;\n",
       "    }\n",
       "\n",
       "    .dataframe tbody tr th {\n",
       "        vertical-align: top;\n",
       "    }\n",
       "\n",
       "    .dataframe thead th {\n",
       "        text-align: right;\n",
       "    }\n",
       "</style>\n",
       "<table border=\"1\" class=\"dataframe\">\n",
       "  <thead>\n",
       "    <tr style=\"text-align: right;\">\n",
       "      <th></th>\n",
       "      <th>beta</th>\n",
       "      <th>size</th>\n",
       "      <th>value</th>\n",
       "      <th>rf</th>\n",
       "      <th>ret</th>\n",
       "    </tr>\n",
       "  </thead>\n",
       "  <tbody>\n",
       "    <tr>\n",
       "      <th>2000-02-29</th>\n",
       "      <td>0.0245</td>\n",
       "      <td>0.2142</td>\n",
       "      <td>-0.0970</td>\n",
       "      <td>0.0043</td>\n",
       "      <td>0.104820</td>\n",
       "    </tr>\n",
       "    <tr>\n",
       "      <th>2000-03-31</th>\n",
       "      <td>0.0520</td>\n",
       "      <td>-0.1723</td>\n",
       "      <td>0.0817</td>\n",
       "      <td>0.0047</td>\n",
       "      <td>0.184842</td>\n",
       "    </tr>\n",
       "    <tr>\n",
       "      <th>2000-04-30</th>\n",
       "      <td>-0.0640</td>\n",
       "      <td>-0.0668</td>\n",
       "      <td>0.0726</td>\n",
       "      <td>0.0046</td>\n",
       "      <td>-0.086516</td>\n",
       "    </tr>\n",
       "    <tr>\n",
       "      <th>2000-05-31</th>\n",
       "      <td>-0.0442</td>\n",
       "      <td>-0.0609</td>\n",
       "      <td>0.0481</td>\n",
       "      <td>0.0050</td>\n",
       "      <td>-0.322922</td>\n",
       "    </tr>\n",
       "    <tr>\n",
       "      <th>2000-06-30</th>\n",
       "      <td>0.0464</td>\n",
       "      <td>0.1285</td>\n",
       "      <td>-0.0843</td>\n",
       "      <td>0.0040</td>\n",
       "      <td>0.247024</td>\n",
       "    </tr>\n",
       "    <tr>\n",
       "      <th>...</th>\n",
       "      <td>...</td>\n",
       "      <td>...</td>\n",
       "      <td>...</td>\n",
       "      <td>...</td>\n",
       "      <td>...</td>\n",
       "    </tr>\n",
       "    <tr>\n",
       "      <th>2022-06-30</th>\n",
       "      <td>-0.0843</td>\n",
       "      <td>0.0210</td>\n",
       "      <td>-0.0598</td>\n",
       "      <td>0.0006</td>\n",
       "      <td>-0.081430</td>\n",
       "    </tr>\n",
       "    <tr>\n",
       "      <th>2022-07-31</th>\n",
       "      <td>0.0957</td>\n",
       "      <td>0.0280</td>\n",
       "      <td>-0.0410</td>\n",
       "      <td>0.0008</td>\n",
       "      <td>0.188634</td>\n",
       "    </tr>\n",
       "    <tr>\n",
       "      <th>2022-08-31</th>\n",
       "      <td>-0.0377</td>\n",
       "      <td>0.0137</td>\n",
       "      <td>0.0030</td>\n",
       "      <td>0.0019</td>\n",
       "      <td>-0.031208</td>\n",
       "    </tr>\n",
       "    <tr>\n",
       "      <th>2022-09-30</th>\n",
       "      <td>-0.0935</td>\n",
       "      <td>-0.0079</td>\n",
       "      <td>0.0006</td>\n",
       "      <td>0.0019</td>\n",
       "      <td>-0.120977</td>\n",
       "    </tr>\n",
       "    <tr>\n",
       "      <th>2022-10-31</th>\n",
       "      <td>0.0783</td>\n",
       "      <td>0.0009</td>\n",
       "      <td>0.0805</td>\n",
       "      <td>0.0023</td>\n",
       "      <td>0.005644</td>\n",
       "    </tr>\n",
       "  </tbody>\n",
       "</table>\n",
       "<p>273 rows × 5 columns</p>\n",
       "</div>"
      ],
      "text/plain": [
       "              beta    size   value      rf       ret\n",
       "2000-02-29  0.0245  0.2142 -0.0970  0.0043  0.104820\n",
       "2000-03-31  0.0520 -0.1723  0.0817  0.0047  0.184842\n",
       "2000-04-30 -0.0640 -0.0668  0.0726  0.0046 -0.086516\n",
       "2000-05-31 -0.0442 -0.0609  0.0481  0.0050 -0.322922\n",
       "2000-06-30  0.0464  0.1285 -0.0843  0.0040  0.247024\n",
       "...            ...     ...     ...     ...       ...\n",
       "2022-06-30 -0.0843  0.0210 -0.0598  0.0006 -0.081430\n",
       "2022-07-31  0.0957  0.0280 -0.0410  0.0008  0.188634\n",
       "2022-08-31 -0.0377  0.0137  0.0030  0.0019 -0.031208\n",
       "2022-09-30 -0.0935 -0.0079  0.0006  0.0019 -0.120977\n",
       "2022-10-31  0.0783  0.0009  0.0805  0.0023  0.005644\n",
       "\n",
       "[273 rows x 5 columns]"
      ]
     },
     "execution_count": 7,
     "metadata": {},
     "output_type": "execute_result"
    }
   ],
   "source": [
    "# ff_data 데이터프레임 칼럼 이름 변경\n",
    "ff_data.columns = ['beta', 'size', 'value', 'rf', 'ret']\n",
    "\n",
    "# 결과\n",
    "ff_data"
   ]
  },
  {
   "cell_type": "markdown",
   "metadata": {
    "id": "rv9fvoJ_nfDh"
   },
   "source": [
    "### 파마-프렌치 3 팩터 모델로 주가 선형 회귀 분석"
   ]
  },
  {
   "cell_type": "code",
   "execution_count": 8,
   "metadata": {
    "id": "so7xU0UAYNgE"
   },
   "outputs": [
    {
     "name": "stdout",
     "output_type": "stream",
     "text": [
      "                                 OLS Regression Results                                \n",
      "=======================================================================================\n",
      "Dep. Variable:                      y   R-squared (uncentered):                   0.369\n",
      "Model:                            OLS   Adj. R-squared (uncentered):              0.362\n",
      "Method:                 Least Squares   F-statistic:                              52.56\n",
      "Date:                Mon, 26 Jun 2023   Prob (F-statistic):                    8.68e-27\n",
      "Time:                        15:41:23   Log-Likelihood:                          262.37\n",
      "No. Observations:                 273   AIC:                                     -518.7\n",
      "Df Residuals:                     270   BIC:                                     -507.9\n",
      "Df Model:                           3                                                  \n",
      "Covariance Type:            nonrobust                                                  \n",
      "==============================================================================\n",
      "                 coef    std err          t      P>|t|      [0.025      0.975]\n",
      "------------------------------------------------------------------------------\n",
      "beta           1.3709      0.126     10.849      0.000       1.122       1.620\n",
      "size           0.1058      0.187      0.566      0.572      -0.262       0.474\n",
      "value         -0.7715      0.164     -4.700      0.000      -1.095      -0.448\n",
      "==============================================================================\n",
      "Omnibus:                       29.552   Durbin-Watson:                   1.889\n",
      "Prob(Omnibus):                  0.000   Jarque-Bera (JB):              150.336\n",
      "Skew:                          -0.106   Prob(JB):                     2.26e-33\n",
      "Kurtosis:                       6.629   Cond. No.                         1.70\n",
      "==============================================================================\n",
      "\n",
      "Notes:\n",
      "[1] R² is computed without centering (uncentered) since the model does not contain a constant.\n",
      "[2] Standard Errors assume that the covariance matrix of the errors is correctly specified.\n"
     ]
    }
   ],
   "source": [
    "# 회귀분석 설명변수: 베타, 사이즈, 밸류\n",
    "X = ff_data[['beta', 'size', 'value']]\n",
    "\n",
    "# 회귀분석 종속변수: 애플 주식의 무위험 초과 수익률\n",
    "y = ff_data['ret'] - ff_data['rf']\n",
    "\n",
    "# 데이터를 회귀분석 모델에 피팅시키기\n",
    "ff_model = sm.OLS(y, X).fit()\n",
    "\n",
    "# 회귀분석 결과 출력\n",
    "print(ff_model.summary())\n",
    "\n",
    "# 베타 계수 할당\n",
    "b1, b2, b3 = ff_model.params"
   ]
  },
  {
   "cell_type": "code",
   "execution_count": 9,
   "metadata": {
    "id": "pxrIPzKvWfUu"
   },
   "outputs": [
    {
     "data": {
      "text/plain": [
       "(1.3709395190860358, 0.1057717513525378, -0.7714843440421135)"
      ]
     },
     "execution_count": 9,
     "metadata": {},
     "output_type": "execute_result"
    }
   ],
   "source": [
    "b1, b2, b3"
   ]
  },
  {
   "cell_type": "code",
   "execution_count": 10,
   "metadata": {
    "id": "VMfUyPwMYQc7"
   },
   "outputs": [
    {
     "name": "stdout",
     "output_type": "stream",
     "text": [
      "Expected Yearly Return: 0.0810297316502217\n"
     ]
    }
   ],
   "source": [
    "# 무위험수익률\n",
    "rf = ff_data['rf'].mean()\n",
    "\n",
    "# 시장 위험 프리미엄\n",
    "market_premium = ff_data['beta'].mean()\n",
    "\n",
    "# 사이즈 프리미엄\n",
    "size_premium = ff_data['size'].mean()\n",
    "\n",
    "# 밸류 프리미엄\n",
    "value_premium = ff_data['value'].mean()\n",
    "\n",
    "# 팩터를 활용한 기대수익률 계산\n",
    "# 월간 기대수익률\n",
    "expected_monthly_return = rf + b1 * market_premium + b2 * size_premium + b3 * value_premium\n",
    "\n",
    "# 연간 기대수익률\n",
    "expected_yearly_return = expected_monthly_return * 12\n",
    "\n",
    "# 기대수익률 출력\n",
    "print('Expected Yearly Return: ' + str(expected_yearly_return))"
   ]
  },
  {
   "cell_type": "markdown",
   "metadata": {
    "id": "ciCEGy_Tu-GR"
   },
   "source": [
    "### 시간 가변적 베타 (Time-Varying Beta)\n"
   ]
  },
  {
   "cell_type": "code",
   "execution_count": 11,
   "metadata": {
    "id": "_FOOsttJYUlE"
   },
   "outputs": [],
   "source": [
    "# RollingOLS 임포트\n",
    "from statsmodels.regression.rolling import RollingOLS"
   ]
  },
  {
   "cell_type": "code",
   "execution_count": 12,
   "metadata": {
    "id": "RSv8p2OXvE99"
   },
   "outputs": [],
   "source": [
    "# 3-팩터 롤링 베타 추출\n",
    "betas = RollingOLS.from_formula('ret ~ beta + size + value', data=ff_data, window=36).fit().params"
   ]
  },
  {
   "cell_type": "code",
   "execution_count": 13,
   "metadata": {
    "id": "gM_nj6UfX4oS"
   },
   "outputs": [
    {
     "data": {
      "text/html": [
       "<div>\n",
       "<style scoped>\n",
       "    .dataframe tbody tr th:only-of-type {\n",
       "        vertical-align: middle;\n",
       "    }\n",
       "\n",
       "    .dataframe tbody tr th {\n",
       "        vertical-align: top;\n",
       "    }\n",
       "\n",
       "    .dataframe thead th {\n",
       "        text-align: right;\n",
       "    }\n",
       "</style>\n",
       "<table border=\"1\" class=\"dataframe\">\n",
       "  <thead>\n",
       "    <tr style=\"text-align: right;\">\n",
       "      <th></th>\n",
       "      <th>Intercept</th>\n",
       "      <th>beta</th>\n",
       "      <th>size</th>\n",
       "      <th>value</th>\n",
       "    </tr>\n",
       "  </thead>\n",
       "  <tbody>\n",
       "    <tr>\n",
       "      <th>2000-02-29</th>\n",
       "      <td>NaN</td>\n",
       "      <td>NaN</td>\n",
       "      <td>NaN</td>\n",
       "      <td>NaN</td>\n",
       "    </tr>\n",
       "    <tr>\n",
       "      <th>2000-03-31</th>\n",
       "      <td>NaN</td>\n",
       "      <td>NaN</td>\n",
       "      <td>NaN</td>\n",
       "      <td>NaN</td>\n",
       "    </tr>\n",
       "    <tr>\n",
       "      <th>2000-04-30</th>\n",
       "      <td>NaN</td>\n",
       "      <td>NaN</td>\n",
       "      <td>NaN</td>\n",
       "      <td>NaN</td>\n",
       "    </tr>\n",
       "    <tr>\n",
       "      <th>2000-05-31</th>\n",
       "      <td>NaN</td>\n",
       "      <td>NaN</td>\n",
       "      <td>NaN</td>\n",
       "      <td>NaN</td>\n",
       "    </tr>\n",
       "    <tr>\n",
       "      <th>2000-06-30</th>\n",
       "      <td>NaN</td>\n",
       "      <td>NaN</td>\n",
       "      <td>NaN</td>\n",
       "      <td>NaN</td>\n",
       "    </tr>\n",
       "    <tr>\n",
       "      <th>...</th>\n",
       "      <td>...</td>\n",
       "      <td>...</td>\n",
       "      <td>...</td>\n",
       "      <td>...</td>\n",
       "    </tr>\n",
       "    <tr>\n",
       "      <th>2022-06-30</th>\n",
       "      <td>0.022749</td>\n",
       "      <td>1.291525</td>\n",
       "      <td>-0.597463</td>\n",
       "      <td>-0.453455</td>\n",
       "    </tr>\n",
       "    <tr>\n",
       "      <th>2022-07-31</th>\n",
       "      <td>0.022798</td>\n",
       "      <td>1.313989</td>\n",
       "      <td>-0.557687</td>\n",
       "      <td>-0.471819</td>\n",
       "    </tr>\n",
       "    <tr>\n",
       "      <th>2022-08-31</th>\n",
       "      <td>0.024301</td>\n",
       "      <td>1.304108</td>\n",
       "      <td>-0.586768</td>\n",
       "      <td>-0.493563</td>\n",
       "    </tr>\n",
       "    <tr>\n",
       "      <th>2022-09-30</th>\n",
       "      <td>0.021802</td>\n",
       "      <td>1.319909</td>\n",
       "      <td>-0.566108</td>\n",
       "      <td>-0.534193</td>\n",
       "    </tr>\n",
       "    <tr>\n",
       "      <th>2022-10-31</th>\n",
       "      <td>0.018740</td>\n",
       "      <td>1.274589</td>\n",
       "      <td>-0.536962</td>\n",
       "      <td>-0.577474</td>\n",
       "    </tr>\n",
       "  </tbody>\n",
       "</table>\n",
       "<p>273 rows × 4 columns</p>\n",
       "</div>"
      ],
      "text/plain": [
       "            Intercept      beta      size     value\n",
       "2000-02-29        NaN       NaN       NaN       NaN\n",
       "2000-03-31        NaN       NaN       NaN       NaN\n",
       "2000-04-30        NaN       NaN       NaN       NaN\n",
       "2000-05-31        NaN       NaN       NaN       NaN\n",
       "2000-06-30        NaN       NaN       NaN       NaN\n",
       "...               ...       ...       ...       ...\n",
       "2022-06-30   0.022749  1.291525 -0.597463 -0.453455\n",
       "2022-07-31   0.022798  1.313989 -0.557687 -0.471819\n",
       "2022-08-31   0.024301  1.304108 -0.586768 -0.493563\n",
       "2022-09-30   0.021802  1.319909 -0.566108 -0.534193\n",
       "2022-10-31   0.018740  1.274589 -0.536962 -0.577474\n",
       "\n",
       "[273 rows x 4 columns]"
      ]
     },
     "execution_count": 13,
     "metadata": {},
     "output_type": "execute_result"
    }
   ],
   "source": [
    "betas"
   ]
  },
  {
   "cell_type": "code",
   "execution_count": 14,
   "metadata": {
    "id": "h13AcQfbxnb0"
   },
   "outputs": [
    {
     "data": {
      "text/plain": [
       "<Axes: >"
      ]
     },
     "execution_count": 14,
     "metadata": {},
     "output_type": "execute_result"
    },
    {
     "data": {
      "image/png": "[encoded data removed]",
      "text/plain": [
       "<Figure size 1000x600 with 1 Axes>"
      ]
     },
     "metadata": {},
     "output_type": "display_data"
    }
   ],
   "source": [
    "# 팩터 계수 그래프\n",
    "betas.dropna().plot(figsize=(10, 6))"
   ]
  }
 ],
 "metadata": {
  "colab": {
   "authorship_tag": "ABX9TyNNeI6G00IUYuTh/UyRt5gA",
   "collapsed_sections": [],
   "provenance": []
  },
  "kernelspec": {
   "display_name": "Python 3 (ipykernel)",
   "language": "python",
   "name": "python3"
  },
  "language_info": {
   "codemirror_mode": {
    "name": "ipython",
    "version": 3
   },
   "file_extension": ".py",
   "mimetype": "text/x-python",
   "name": "python",
   "nbconvert_exporter": "python",
   "pygments_lexer": "ipython3",
   "version": "3.10.9"
  }
 },
 "nbformat": 4,
 "nbformat_minor": 1
}
